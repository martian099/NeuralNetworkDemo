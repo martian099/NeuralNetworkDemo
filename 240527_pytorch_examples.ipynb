{
  "cells": [
    {
      "cell_type": "markdown",
      "id": "8469d672-b314-4716-9280-44a29e9369eb",
      "metadata": {
        "tags": [],
        "id": "8469d672-b314-4716-9280-44a29e9369eb"
      },
      "source": [
        "# 1. Tensor examples"
      ]
    },
    {
      "cell_type": "code",
      "execution_count": 1,
      "id": "85a7324e-beb0-4f3d-b2c8-85018ceede3f",
      "metadata": {
        "colab": {
          "base_uri": "https://localhost:8080/"
        },
        "id": "85a7324e-beb0-4f3d-b2c8-85018ceede3f",
        "outputId": "395a47b5-7ab9-4af9-c110-53f448b02850"
      },
      "outputs": [
        {
          "output_type": "stream",
          "name": "stdout",
          "text": [
            "Scalar: 5.0\n",
            "Scalar value: 5.0\n",
            "Scalar shape: torch.Size([])\n"
          ]
        }
      ],
      "source": [
        "import torch\n",
        "# Scalar\n",
        "scalar = torch.tensor(5.0)\n",
        "print(f\"Scalar: {scalar}\")\n",
        "print(f\"Scalar value: {scalar.item()}\")  # Convert to a Python number\n",
        "print(f\"Scalar shape: {scalar.shape}\")"
      ]
    },
    {
      "cell_type": "code",
      "execution_count": null,
      "id": "941e58ad-f593-40bb-81a7-4370d29285c9",
      "metadata": {
        "id": "941e58ad-f593-40bb-81a7-4370d29285c9",
        "outputId": "a4769811-a072-49ca-e02b-448aa42de014"
      },
      "outputs": [
        {
          "name": "stdout",
          "output_type": "stream",
          "text": [
            "1D Tensor (Array): tensor([1., 2., 3., 4.])\n",
            "Array shape: torch.Size([4])\n",
            "Array sum: 10.0\n"
          ]
        }
      ],
      "source": [
        "# 1D Tensor (Array)\n",
        "array = torch.tensor([1.0, 2.0, 3.0, 4.0])\n",
        "print(f\"1D Tensor (Array): {array}\")\n",
        "print(f\"Array shape: {array.shape}\")\n",
        "print(f\"Array sum: {torch.sum(array)}\")"
      ]
    },
    {
      "cell_type": "code",
      "execution_count": null,
      "id": "daae7279-300e-41b0-b5f0-10cbebdcdb65",
      "metadata": {
        "id": "daae7279-300e-41b0-b5f0-10cbebdcdb65",
        "outputId": "b49004ef-9b74-4f9c-bfb3-4394d4ce9f0e"
      },
      "outputs": [
        {
          "name": "stdout",
          "output_type": "stream",
          "text": [
            "2D Tensor (Matrix): tensor([[1., 2.],\n",
            "        [3., 4.]])\n",
            "Matrix shape: torch.Size([2, 2])\n",
            "Matrix transpose: tensor([[1., 3.],\n",
            "        [2., 4.]])\n",
            "Matrix multiplication: tensor([[ 7., 10.],\n",
            "        [15., 22.]])\n"
          ]
        }
      ],
      "source": [
        "# 2D Tensor (Matrix)\n",
        "matrix = torch.tensor([[1.0, 2.0], [3.0, 4.0]])\n",
        "print(f\"2D Tensor (Matrix): {matrix}\")\n",
        "print(f\"Matrix shape: {matrix.shape}\")\n",
        "print(f\"Matrix transpose: {matrix.t()}\")\n",
        "print(f\"Matrix multiplication: {torch.mm(matrix, matrix)}\")"
      ]
    },
    {
      "cell_type": "code",
      "execution_count": 4,
      "id": "3ebdbeb4-212b-47e9-b95a-e8f51a99959c",
      "metadata": {
        "colab": {
          "base_uri": "https://localhost:8080/"
        },
        "id": "3ebdbeb4-212b-47e9-b95a-e8f51a99959c",
        "outputId": "1463e932-2674-4991-ec91-7a033cefe1ee"
      },
      "outputs": [
        {
          "output_type": "stream",
          "name": "stdout",
          "text": [
            "3D Tensor: tensor([[[ 0.3394],\n",
            "         [ 1.1467],\n",
            "         [-0.9086]],\n",
            "\n",
            "        [[ 1.1842],\n",
            "         [-0.9695],\n",
            "         [-0.2327]]])\n",
            "3D Tensor shape: torch.Size([2, 3, 1])\n"
          ]
        }
      ],
      "source": [
        "# 3D Tensor\n",
        "tensor_3d = torch.randn(2, 3, 1)  # Random 3x4x5 tensor\n",
        "print(f\"3D Tensor: {tensor_3d}\")\n",
        "print(f\"3D Tensor shape: {tensor_3d.shape}\")"
      ]
    },
    {
      "cell_type": "code",
      "execution_count": null,
      "id": "4e51b465-49bc-4711-9df0-a8bb7d4f47f4",
      "metadata": {
        "id": "4e51b465-49bc-4711-9df0-a8bb7d4f47f4",
        "outputId": "ec4c9fcc-7d59-4876-ee5b-18664d74be39"
      },
      "outputs": [
        {
          "name": "stdout",
          "output_type": "stream",
          "text": [
            "Element-wise addition: tensor([1.5000, 3.5000, 5.5000, 7.5000])\n",
            "Element-wise multiplication: tensor([ 0.5000,  3.0000,  7.5000, 14.0000])\n"
          ]
        }
      ],
      "source": [
        "# Element-wise addition\n",
        "array1 = torch.tensor([1.0, 2.0, 3.0, 4.0])\n",
        "array2 = torch.tensor([0.5, 1.5, 2.5, 3.5])\n",
        "print(f\"Element-wise addition: {array1 + array2}\")\n",
        "\n",
        "# Element-wise multiplication\n",
        "print(f\"Element-wise multiplication: {array1 * array2}\")"
      ]
    },
    {
      "cell_type": "code",
      "execution_count": null,
      "id": "b6069252-3e01-4acb-9ee5-1090dd5d5acd",
      "metadata": {
        "id": "b6069252-3e01-4acb-9ee5-1090dd5d5acd",
        "outputId": "aed35393-9fe6-403b-d90f-215f7e49d57f"
      },
      "outputs": [
        {
          "name": "stdout",
          "output_type": "stream",
          "text": [
            "Sum of array1: 10.0\n",
            "Mean of array1: 2.5\n",
            "Max of array1: 4.0\n"
          ]
        }
      ],
      "source": [
        "# Sum\n",
        "print(f\"Sum of array1: {torch.sum(array1)}\")\n",
        "\n",
        "# Mean\n",
        "print(f\"Mean of array1: {torch.mean(array1)}\")\n",
        "\n",
        "# Maximum\n",
        "print(f\"Max of array1: {torch.max(array1)}\")"
      ]
    },
    {
      "cell_type": "code",
      "execution_count": null,
      "id": "5b5aace7-c603-430f-b49c-bc358d55d7f0",
      "metadata": {
        "id": "5b5aace7-c603-430f-b49c-bc358d55d7f0",
        "outputId": "66b7fcaf-d11c-470f-af1e-85db5dc98fda"
      },
      "outputs": [
        {
          "name": "stdout",
          "output_type": "stream",
          "text": [
            "tensor([14., 32.])\n"
          ]
        }
      ],
      "source": [
        "# transforming a vector with a matrix\n",
        "matrix = torch.tensor([[1.0, 2.0, 3.0],\n",
        "                       [4.0, 5.0, 6.0]])\n",
        "\n",
        "vector = torch.tensor([1.0, 2.0, 3.0])\n",
        "\n",
        "# Perform matrix-vector multiplication using torch.matmul\n",
        "result = torch.matmul(matrix, vector)\n",
        "print(result)"
      ]
    },
    {
      "cell_type": "markdown",
      "id": "c8e362ee-4e9a-4739-8ace-c3adfa42b46c",
      "metadata": {
        "tags": [],
        "id": "c8e362ee-4e9a-4739-8ace-c3adfa42b46c"
      },
      "source": [
        "# 2. Data loading examples"
      ]
    },
    {
      "cell_type": "code",
      "execution_count": 6,
      "id": "8067c75f-f128-4411-99af-826bce97e146",
      "metadata": {
        "id": "8067c75f-f128-4411-99af-826bce97e146"
      },
      "outputs": [],
      "source": [
        "import torch\n",
        "from torch.utils.data import TensorDataset, DataLoader, random_split\n",
        "import seaborn as sns"
      ]
    },
    {
      "cell_type": "code",
      "source": [
        "iris = sns.load_dataset(\"iris\")\n",
        "# iris is a pandas dataset\n",
        "iris.head()"
      ],
      "metadata": {
        "id": "RKgpagZmAXAh",
        "outputId": "de238760-18f8-4f73-f61c-ad2a7bf81a56",
        "colab": {
          "base_uri": "https://localhost:8080/",
          "height": 206
        }
      },
      "id": "RKgpagZmAXAh",
      "execution_count": 8,
      "outputs": [
        {
          "output_type": "execute_result",
          "data": {
            "text/plain": [
              "   sepal_length  sepal_width  petal_length  petal_width species\n",
              "0           5.1          3.5           1.4          0.2  setosa\n",
              "1           4.9          3.0           1.4          0.2  setosa\n",
              "2           4.7          3.2           1.3          0.2  setosa\n",
              "3           4.6          3.1           1.5          0.2  setosa\n",
              "4           5.0          3.6           1.4          0.2  setosa"
            ],
            "text/html": [
              "\n",
              "  <div id=\"df-ee56bf9b-bd32-4bcd-befd-742c65bb67e6\" class=\"colab-df-container\">\n",
              "    <div>\n",
              "<style scoped>\n",
              "    .dataframe tbody tr th:only-of-type {\n",
              "        vertical-align: middle;\n",
              "    }\n",
              "\n",
              "    .dataframe tbody tr th {\n",
              "        vertical-align: top;\n",
              "    }\n",
              "\n",
              "    .dataframe thead th {\n",
              "        text-align: right;\n",
              "    }\n",
              "</style>\n",
              "<table border=\"1\" class=\"dataframe\">\n",
              "  <thead>\n",
              "    <tr style=\"text-align: right;\">\n",
              "      <th></th>\n",
              "      <th>sepal_length</th>\n",
              "      <th>sepal_width</th>\n",
              "      <th>petal_length</th>\n",
              "      <th>petal_width</th>\n",
              "      <th>species</th>\n",
              "    </tr>\n",
              "  </thead>\n",
              "  <tbody>\n",
              "    <tr>\n",
              "      <th>0</th>\n",
              "      <td>5.1</td>\n",
              "      <td>3.5</td>\n",
              "      <td>1.4</td>\n",
              "      <td>0.2</td>\n",
              "      <td>setosa</td>\n",
              "    </tr>\n",
              "    <tr>\n",
              "      <th>1</th>\n",
              "      <td>4.9</td>\n",
              "      <td>3.0</td>\n",
              "      <td>1.4</td>\n",
              "      <td>0.2</td>\n",
              "      <td>setosa</td>\n",
              "    </tr>\n",
              "    <tr>\n",
              "      <th>2</th>\n",
              "      <td>4.7</td>\n",
              "      <td>3.2</td>\n",
              "      <td>1.3</td>\n",
              "      <td>0.2</td>\n",
              "      <td>setosa</td>\n",
              "    </tr>\n",
              "    <tr>\n",
              "      <th>3</th>\n",
              "      <td>4.6</td>\n",
              "      <td>3.1</td>\n",
              "      <td>1.5</td>\n",
              "      <td>0.2</td>\n",
              "      <td>setosa</td>\n",
              "    </tr>\n",
              "    <tr>\n",
              "      <th>4</th>\n",
              "      <td>5.0</td>\n",
              "      <td>3.6</td>\n",
              "      <td>1.4</td>\n",
              "      <td>0.2</td>\n",
              "      <td>setosa</td>\n",
              "    </tr>\n",
              "  </tbody>\n",
              "</table>\n",
              "</div>\n",
              "    <div class=\"colab-df-buttons\">\n",
              "\n",
              "  <div class=\"colab-df-container\">\n",
              "    <button class=\"colab-df-convert\" onclick=\"convertToInteractive('df-ee56bf9b-bd32-4bcd-befd-742c65bb67e6')\"\n",
              "            title=\"Convert this dataframe to an interactive table.\"\n",
              "            style=\"display:none;\">\n",
              "\n",
              "  <svg xmlns=\"http://www.w3.org/2000/svg\" height=\"24px\" viewBox=\"0 -960 960 960\">\n",
              "    <path d=\"M120-120v-720h720v720H120Zm60-500h600v-160H180v160Zm220 220h160v-160H400v160Zm0 220h160v-160H400v160ZM180-400h160v-160H180v160Zm440 0h160v-160H620v160ZM180-180h160v-160H180v160Zm440 0h160v-160H620v160Z\"/>\n",
              "  </svg>\n",
              "    </button>\n",
              "\n",
              "  <style>\n",
              "    .colab-df-container {\n",
              "      display:flex;\n",
              "      gap: 12px;\n",
              "    }\n",
              "\n",
              "    .colab-df-convert {\n",
              "      background-color: #E8F0FE;\n",
              "      border: none;\n",
              "      border-radius: 50%;\n",
              "      cursor: pointer;\n",
              "      display: none;\n",
              "      fill: #1967D2;\n",
              "      height: 32px;\n",
              "      padding: 0 0 0 0;\n",
              "      width: 32px;\n",
              "    }\n",
              "\n",
              "    .colab-df-convert:hover {\n",
              "      background-color: #E2EBFA;\n",
              "      box-shadow: 0px 1px 2px rgba(60, 64, 67, 0.3), 0px 1px 3px 1px rgba(60, 64, 67, 0.15);\n",
              "      fill: #174EA6;\n",
              "    }\n",
              "\n",
              "    .colab-df-buttons div {\n",
              "      margin-bottom: 4px;\n",
              "    }\n",
              "\n",
              "    [theme=dark] .colab-df-convert {\n",
              "      background-color: #3B4455;\n",
              "      fill: #D2E3FC;\n",
              "    }\n",
              "\n",
              "    [theme=dark] .colab-df-convert:hover {\n",
              "      background-color: #434B5C;\n",
              "      box-shadow: 0px 1px 3px 1px rgba(0, 0, 0, 0.15);\n",
              "      filter: drop-shadow(0px 1px 2px rgba(0, 0, 0, 0.3));\n",
              "      fill: #FFFFFF;\n",
              "    }\n",
              "  </style>\n",
              "\n",
              "    <script>\n",
              "      const buttonEl =\n",
              "        document.querySelector('#df-ee56bf9b-bd32-4bcd-befd-742c65bb67e6 button.colab-df-convert');\n",
              "      buttonEl.style.display =\n",
              "        google.colab.kernel.accessAllowed ? 'block' : 'none';\n",
              "\n",
              "      async function convertToInteractive(key) {\n",
              "        const element = document.querySelector('#df-ee56bf9b-bd32-4bcd-befd-742c65bb67e6');\n",
              "        const dataTable =\n",
              "          await google.colab.kernel.invokeFunction('convertToInteractive',\n",
              "                                                    [key], {});\n",
              "        if (!dataTable) return;\n",
              "\n",
              "        const docLinkHtml = 'Like what you see? Visit the ' +\n",
              "          '<a target=\"_blank\" href=https://colab.research.google.com/notebooks/data_table.ipynb>data table notebook</a>'\n",
              "          + ' to learn more about interactive tables.';\n",
              "        element.innerHTML = '';\n",
              "        dataTable['output_type'] = 'display_data';\n",
              "        await google.colab.output.renderOutput(dataTable, element);\n",
              "        const docLink = document.createElement('div');\n",
              "        docLink.innerHTML = docLinkHtml;\n",
              "        element.appendChild(docLink);\n",
              "      }\n",
              "    </script>\n",
              "  </div>\n",
              "\n",
              "\n",
              "<div id=\"df-459b2492-b8f9-4c19-b9f5-5d998eb254a7\">\n",
              "  <button class=\"colab-df-quickchart\" onclick=\"quickchart('df-459b2492-b8f9-4c19-b9f5-5d998eb254a7')\"\n",
              "            title=\"Suggest charts\"\n",
              "            style=\"display:none;\">\n",
              "\n",
              "<svg xmlns=\"http://www.w3.org/2000/svg\" height=\"24px\"viewBox=\"0 0 24 24\"\n",
              "     width=\"24px\">\n",
              "    <g>\n",
              "        <path d=\"M19 3H5c-1.1 0-2 .9-2 2v14c0 1.1.9 2 2 2h14c1.1 0 2-.9 2-2V5c0-1.1-.9-2-2-2zM9 17H7v-7h2v7zm4 0h-2V7h2v10zm4 0h-2v-4h2v4z\"/>\n",
              "    </g>\n",
              "</svg>\n",
              "  </button>\n",
              "\n",
              "<style>\n",
              "  .colab-df-quickchart {\n",
              "      --bg-color: #E8F0FE;\n",
              "      --fill-color: #1967D2;\n",
              "      --hover-bg-color: #E2EBFA;\n",
              "      --hover-fill-color: #174EA6;\n",
              "      --disabled-fill-color: #AAA;\n",
              "      --disabled-bg-color: #DDD;\n",
              "  }\n",
              "\n",
              "  [theme=dark] .colab-df-quickchart {\n",
              "      --bg-color: #3B4455;\n",
              "      --fill-color: #D2E3FC;\n",
              "      --hover-bg-color: #434B5C;\n",
              "      --hover-fill-color: #FFFFFF;\n",
              "      --disabled-bg-color: #3B4455;\n",
              "      --disabled-fill-color: #666;\n",
              "  }\n",
              "\n",
              "  .colab-df-quickchart {\n",
              "    background-color: var(--bg-color);\n",
              "    border: none;\n",
              "    border-radius: 50%;\n",
              "    cursor: pointer;\n",
              "    display: none;\n",
              "    fill: var(--fill-color);\n",
              "    height: 32px;\n",
              "    padding: 0;\n",
              "    width: 32px;\n",
              "  }\n",
              "\n",
              "  .colab-df-quickchart:hover {\n",
              "    background-color: var(--hover-bg-color);\n",
              "    box-shadow: 0 1px 2px rgba(60, 64, 67, 0.3), 0 1px 3px 1px rgba(60, 64, 67, 0.15);\n",
              "    fill: var(--button-hover-fill-color);\n",
              "  }\n",
              "\n",
              "  .colab-df-quickchart-complete:disabled,\n",
              "  .colab-df-quickchart-complete:disabled:hover {\n",
              "    background-color: var(--disabled-bg-color);\n",
              "    fill: var(--disabled-fill-color);\n",
              "    box-shadow: none;\n",
              "  }\n",
              "\n",
              "  .colab-df-spinner {\n",
              "    border: 2px solid var(--fill-color);\n",
              "    border-color: transparent;\n",
              "    border-bottom-color: var(--fill-color);\n",
              "    animation:\n",
              "      spin 1s steps(1) infinite;\n",
              "  }\n",
              "\n",
              "  @keyframes spin {\n",
              "    0% {\n",
              "      border-color: transparent;\n",
              "      border-bottom-color: var(--fill-color);\n",
              "      border-left-color: var(--fill-color);\n",
              "    }\n",
              "    20% {\n",
              "      border-color: transparent;\n",
              "      border-left-color: var(--fill-color);\n",
              "      border-top-color: var(--fill-color);\n",
              "    }\n",
              "    30% {\n",
              "      border-color: transparent;\n",
              "      border-left-color: var(--fill-color);\n",
              "      border-top-color: var(--fill-color);\n",
              "      border-right-color: var(--fill-color);\n",
              "    }\n",
              "    40% {\n",
              "      border-color: transparent;\n",
              "      border-right-color: var(--fill-color);\n",
              "      border-top-color: var(--fill-color);\n",
              "    }\n",
              "    60% {\n",
              "      border-color: transparent;\n",
              "      border-right-color: var(--fill-color);\n",
              "    }\n",
              "    80% {\n",
              "      border-color: transparent;\n",
              "      border-right-color: var(--fill-color);\n",
              "      border-bottom-color: var(--fill-color);\n",
              "    }\n",
              "    90% {\n",
              "      border-color: transparent;\n",
              "      border-bottom-color: var(--fill-color);\n",
              "    }\n",
              "  }\n",
              "</style>\n",
              "\n",
              "  <script>\n",
              "    async function quickchart(key) {\n",
              "      const quickchartButtonEl =\n",
              "        document.querySelector('#' + key + ' button');\n",
              "      quickchartButtonEl.disabled = true;  // To prevent multiple clicks.\n",
              "      quickchartButtonEl.classList.add('colab-df-spinner');\n",
              "      try {\n",
              "        const charts = await google.colab.kernel.invokeFunction(\n",
              "            'suggestCharts', [key], {});\n",
              "      } catch (error) {\n",
              "        console.error('Error during call to suggestCharts:', error);\n",
              "      }\n",
              "      quickchartButtonEl.classList.remove('colab-df-spinner');\n",
              "      quickchartButtonEl.classList.add('colab-df-quickchart-complete');\n",
              "    }\n",
              "    (() => {\n",
              "      let quickchartButtonEl =\n",
              "        document.querySelector('#df-459b2492-b8f9-4c19-b9f5-5d998eb254a7 button');\n",
              "      quickchartButtonEl.style.display =\n",
              "        google.colab.kernel.accessAllowed ? 'block' : 'none';\n",
              "    })();\n",
              "  </script>\n",
              "</div>\n",
              "\n",
              "    </div>\n",
              "  </div>\n"
            ],
            "application/vnd.google.colaboratory.intrinsic+json": {
              "type": "dataframe",
              "variable_name": "iris",
              "summary": "{\n  \"name\": \"iris\",\n  \"rows\": 150,\n  \"fields\": [\n    {\n      \"column\": \"sepal_length\",\n      \"properties\": {\n        \"dtype\": \"number\",\n        \"std\": 0.828066127977863,\n        \"min\": 4.3,\n        \"max\": 7.9,\n        \"num_unique_values\": 35,\n        \"samples\": [\n          6.2,\n          4.5,\n          5.6\n        ],\n        \"semantic_type\": \"\",\n        \"description\": \"\"\n      }\n    },\n    {\n      \"column\": \"sepal_width\",\n      \"properties\": {\n        \"dtype\": \"number\",\n        \"std\": 0.4358662849366982,\n        \"min\": 2.0,\n        \"max\": 4.4,\n        \"num_unique_values\": 23,\n        \"samples\": [\n          2.3,\n          4.0,\n          3.5\n        ],\n        \"semantic_type\": \"\",\n        \"description\": \"\"\n      }\n    },\n    {\n      \"column\": \"petal_length\",\n      \"properties\": {\n        \"dtype\": \"number\",\n        \"std\": 1.7652982332594662,\n        \"min\": 1.0,\n        \"max\": 6.9,\n        \"num_unique_values\": 43,\n        \"samples\": [\n          6.7,\n          3.8,\n          3.7\n        ],\n        \"semantic_type\": \"\",\n        \"description\": \"\"\n      }\n    },\n    {\n      \"column\": \"petal_width\",\n      \"properties\": {\n        \"dtype\": \"number\",\n        \"std\": 0.7622376689603465,\n        \"min\": 0.1,\n        \"max\": 2.5,\n        \"num_unique_values\": 22,\n        \"samples\": [\n          0.2,\n          1.2,\n          1.3\n        ],\n        \"semantic_type\": \"\",\n        \"description\": \"\"\n      }\n    },\n    {\n      \"column\": \"species\",\n      \"properties\": {\n        \"dtype\": \"category\",\n        \"num_unique_values\": 3,\n        \"samples\": [\n          \"setosa\",\n          \"versicolor\",\n          \"virginica\"\n        ],\n        \"semantic_type\": \"\",\n        \"description\": \"\"\n      }\n    }\n  ]\n}"
            }
          },
          "metadata": {},
          "execution_count": 8
        }
      ]
    },
    {
      "cell_type": "code",
      "source": [
        "# get the numpy of the iris dataset\n",
        "X = iris.drop(columns = ['species']).values\n",
        "y = iris['species'].astype('category').cat.codes.values\n",
        "print(X[:5])\n",
        "print(y[:5])"
      ],
      "metadata": {
        "id": "MTxPKyynAa2l",
        "outputId": "52503fff-573e-4238-fc9e-bef02c28e8ff",
        "colab": {
          "base_uri": "https://localhost:8080/"
        }
      },
      "id": "MTxPKyynAa2l",
      "execution_count": 11,
      "outputs": [
        {
          "output_type": "stream",
          "name": "stdout",
          "text": [
            "[[5.1 3.5 1.4 0.2]\n",
            " [4.9 3.  1.4 0.2]\n",
            " [4.7 3.2 1.3 0.2]\n",
            " [4.6 3.1 1.5 0.2]\n",
            " [5.  3.6 1.4 0.2]]\n",
            "[0 0 0 0 0]\n"
          ]
        }
      ]
    },
    {
      "cell_type": "code",
      "source": [
        "# convert numpy to tensor\n",
        "# here label is long type, 64bit int, bc pytorch has optimized for it, CrossEntropyLoss expects long type\n",
        "# I can use torch.Tensor(X), but that will require pyptorch to do type inference, which can potentially\n",
        "# cause performance issues. Better to specify the exact type\n",
        "X_tensor = torch.FloatTensor(X)\n",
        "y_tensor = torch.LongTensor(y)\n",
        "# wrap the X and y tensor to the full data before loading to dataloader\n",
        "full_dataset = TensorDataset(X_tensor, y_tensor)\n",
        "# it looks like we can't print out the TensorDataset directly like this\n",
        "print(full_dataset)\n",
        "\n",
        "# do train test split\n",
        "train_size = int(0.8*len(full_dataset))\n",
        "test_size = len(full_dataset) - train_size\n",
        "train_dataset, test_dataset = random_split(full_dataset, [train_size, test_size])\n",
        "\n",
        "# now can add the data to the dataloader\n",
        "train_loader = DataLoader(train_dataset, batch_size = 16, shuffle = True)\n",
        "test_loader = DataLoader(test_dataset, batch_size = 16, shuffle = False)\n",
        "# it looks like we can't print out the dataloader directly like this\n",
        "print(train_loader)"
      ],
      "metadata": {
        "id": "1FVBCt5fA2oX",
        "outputId": "937c83eb-1f08-4e13-9825-8dcd29bb3827",
        "colab": {
          "base_uri": "https://localhost:8080/"
        }
      },
      "id": "1FVBCt5fA2oX",
      "execution_count": 16,
      "outputs": [
        {
          "output_type": "stream",
          "name": "stdout",
          "text": [
            "<torch.utils.data.dataset.TensorDataset object at 0x787fe79bb250>\n",
            "<torch.utils.data.dataloader.DataLoader object at 0x787fe79baa10>\n"
          ]
        }
      ]
    },
    {
      "cell_type": "code",
      "source": [
        "\n"
      ],
      "metadata": {
        "id": "WUJTpwdLCYpx"
      },
      "id": "WUJTpwdLCYpx",
      "execution_count": null,
      "outputs": []
    }
  ],
  "metadata": {
    "kernelspec": {
      "display_name": "Python (pytorch)",
      "language": "python",
      "name": "pytorch"
    },
    "language_info": {
      "codemirror_mode": {
        "name": "ipython",
        "version": 3
      },
      "file_extension": ".py",
      "mimetype": "text/x-python",
      "name": "python",
      "nbconvert_exporter": "python",
      "pygments_lexer": "ipython3",
      "version": "3.10.14"
    },
    "colab": {
      "provenance": [],
      "toc_visible": true
    }
  },
  "nbformat": 4,
  "nbformat_minor": 5
}