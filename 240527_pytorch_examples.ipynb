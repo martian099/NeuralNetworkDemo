{
 "cells": [
  {
   "cell_type": "markdown",
   "id": "8469d672-b314-4716-9280-44a29e9369eb",
   "metadata": {
    "tags": []
   },
   "source": [
    "# 1. tensor examples"
   ]
  },
  {
   "cell_type": "code",
   "execution_count": 3,
   "id": "85a7324e-beb0-4f3d-b2c8-85018ceede3f",
   "metadata": {},
   "outputs": [
    {
     "name": "stdout",
     "output_type": "stream",
     "text": [
      "Scalar: 5.0\n",
      "Scalar value: 5.0\n",
      "Scalar shape: torch.Size([])\n"
     ]
    }
   ],
   "source": [
    "import torch\n",
    "# Scalar\n",
    "scalar = torch.tensor(5.0)\n",
    "print(f\"Scalar: {scalar}\")\n",
    "print(f\"Scalar value: {scalar.item()}\")  # Convert to a Python number\n",
    "print(f\"Scalar shape: {scalar.shape}\")"
   ]
  },
  {
   "cell_type": "code",
   "execution_count": 4,
   "id": "941e58ad-f593-40bb-81a7-4370d29285c9",
   "metadata": {},
   "outputs": [
    {
     "name": "stdout",
     "output_type": "stream",
     "text": [
      "1D Tensor (Array): tensor([1., 2., 3., 4.])\n",
      "Array shape: torch.Size([4])\n",
      "Array sum: 10.0\n"
     ]
    }
   ],
   "source": [
    "# 1D Tensor (Array)\n",
    "array = torch.tensor([1.0, 2.0, 3.0, 4.0])\n",
    "print(f\"1D Tensor (Array): {array}\")\n",
    "print(f\"Array shape: {array.shape}\")\n",
    "print(f\"Array sum: {torch.sum(array)}\")"
   ]
  },
  {
   "cell_type": "code",
   "execution_count": 5,
   "id": "daae7279-300e-41b0-b5f0-10cbebdcdb65",
   "metadata": {},
   "outputs": [
    {
     "name": "stdout",
     "output_type": "stream",
     "text": [
      "2D Tensor (Matrix): tensor([[1., 2.],\n",
      "        [3., 4.]])\n",
      "Matrix shape: torch.Size([2, 2])\n",
      "Matrix transpose: tensor([[1., 3.],\n",
      "        [2., 4.]])\n",
      "Matrix multiplication: tensor([[ 7., 10.],\n",
      "        [15., 22.]])\n"
     ]
    }
   ],
   "source": [
    "# 2D Tensor (Matrix)\n",
    "matrix = torch.tensor([[1.0, 2.0], [3.0, 4.0]])\n",
    "print(f\"2D Tensor (Matrix): {matrix}\")\n",
    "print(f\"Matrix shape: {matrix.shape}\")\n",
    "print(f\"Matrix transpose: {matrix.t()}\")\n",
    "print(f\"Matrix multiplication: {torch.mm(matrix, matrix)}\")"
   ]
  },
  {
   "cell_type": "code",
   "execution_count": 10,
   "id": "3ebdbeb4-212b-47e9-b95a-e8f51a99959c",
   "metadata": {},
   "outputs": [
    {
     "name": "stdout",
     "output_type": "stream",
     "text": [
      "3D Tensor: tensor([[[-0.3449,  1.0201,  1.0708],\n",
      "         [-0.3220,  1.7004, -2.8363]]])\n",
      "3D Tensor shape: torch.Size([1, 2, 3])\n"
     ]
    }
   ],
   "source": [
    "# 3D Tensor\n",
    "tensor_3d = torch.randn(1, 2, 3)  # Random 3x4x5 tensor\n",
    "print(f\"3D Tensor: {tensor_3d}\")\n",
    "print(f\"3D Tensor shape: {tensor_3d.shape}\")"
   ]
  },
  {
   "cell_type": "code",
   "execution_count": 11,
   "id": "4e51b465-49bc-4711-9df0-a8bb7d4f47f4",
   "metadata": {},
   "outputs": [
    {
     "name": "stdout",
     "output_type": "stream",
     "text": [
      "Element-wise addition: tensor([1.5000, 3.5000, 5.5000, 7.5000])\n",
      "Element-wise multiplication: tensor([ 0.5000,  3.0000,  7.5000, 14.0000])\n"
     ]
    }
   ],
   "source": [
    "# Element-wise addition\n",
    "array1 = torch.tensor([1.0, 2.0, 3.0, 4.0])\n",
    "array2 = torch.tensor([0.5, 1.5, 2.5, 3.5])\n",
    "print(f\"Element-wise addition: {array1 + array2}\")\n",
    "\n",
    "# Element-wise multiplication\n",
    "print(f\"Element-wise multiplication: {array1 * array2}\")"
   ]
  },
  {
   "cell_type": "code",
   "execution_count": 12,
   "id": "b6069252-3e01-4acb-9ee5-1090dd5d5acd",
   "metadata": {},
   "outputs": [
    {
     "name": "stdout",
     "output_type": "stream",
     "text": [
      "Sum of array1: 10.0\n",
      "Mean of array1: 2.5\n",
      "Max of array1: 4.0\n"
     ]
    }
   ],
   "source": [
    "# Sum\n",
    "print(f\"Sum of array1: {torch.sum(array1)}\")\n",
    "\n",
    "# Mean\n",
    "print(f\"Mean of array1: {torch.mean(array1)}\")\n",
    "\n",
    "# Maximum\n",
    "print(f\"Max of array1: {torch.max(array1)}\")"
   ]
  },
  {
   "cell_type": "code",
   "execution_count": 13,
   "id": "5b5aace7-c603-430f-b49c-bc358d55d7f0",
   "metadata": {},
   "outputs": [
    {
     "name": "stdout",
     "output_type": "stream",
     "text": [
      "tensor([14., 32.])\n"
     ]
    }
   ],
   "source": [
    "# transforming a vector with a matrix\n",
    "matrix = torch.tensor([[1.0, 2.0, 3.0],\n",
    "                       [4.0, 5.0, 6.0]])\n",
    "\n",
    "vector = torch.tensor([1.0, 2.0, 3.0])\n",
    "\n",
    "# Perform matrix-vector multiplication using torch.matmul\n",
    "result = torch.matmul(matrix, vector)\n",
    "print(result)"
   ]
  },
  {
   "cell_type": "markdown",
   "id": "c8e362ee-4e9a-4739-8ace-c3adfa42b46c",
   "metadata": {
    "tags": []
   },
   "source": [
    "# 2. data loading examples"
   ]
  },
  {
   "cell_type": "code",
   "execution_count": null,
   "id": "8067c75f-f128-4411-99af-826bce97e146",
   "metadata": {},
   "outputs": [],
   "source": []
  }
 ],
 "metadata": {
  "kernelspec": {
   "display_name": "Python (pytorch)",
   "language": "python",
   "name": "pytorch"
  },
  "language_info": {
   "codemirror_mode": {
    "name": "ipython",
    "version": 3
   },
   "file_extension": ".py",
   "mimetype": "text/x-python",
   "name": "python",
   "nbconvert_exporter": "python",
   "pygments_lexer": "ipython3",
   "version": "3.10.14"
  }
 },
 "nbformat": 4,
 "nbformat_minor": 5
}
